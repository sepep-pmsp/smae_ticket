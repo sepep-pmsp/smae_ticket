{
 "cells": [
  {
   "cell_type": "code",
   "execution_count": null,
   "id": "228b3720-e37a-411c-91b5-2a4005e8b2e2",
   "metadata": {},
   "outputs": [],
   "source": [
    "from api.core.api_smae_dao.dao import DAO"
   ]
  },
  {
   "cell_type": "code",
   "execution_count": null,
   "id": "225b9d19-ba70-4a1f-b801-45b8ec71bd5e",
   "metadata": {},
   "outputs": [],
   "source": [
    "from api.config import *"
   ]
  },
  {
   "cell_type": "code",
   "execution_count": null,
   "id": "e6e51e34-bfb5-40fb-b4a8-5ba04e438a38",
   "metadata": {},
   "outputs": [],
   "source": [
    "d = DAO(HOST_API, **LOGIN_DATA)"
   ]
  },
  {
   "cell_type": "code",
   "execution_count": null,
   "id": "6818cb8c-206d-4115-b35e-d4d594de70c9",
   "metadata": {},
   "outputs": [],
   "source": [
    "resp = d.user_data()"
   ]
  },
  {
   "cell_type": "code",
   "execution_count": null,
   "id": "d93535da-959f-47ba-8535-2e4af06d0a77",
   "metadata": {},
   "outputs": [],
   "source": [
    "type(resp)"
   ]
  },
  {
   "cell_type": "code",
   "execution_count": null,
   "id": "b56518b9-a381-4b82-b332-7cdbe99bcca4",
   "metadata": {},
   "outputs": [],
   "source": [
    "resp"
   ]
  },
  {
   "cell_type": "code",
   "execution_count": 1,
   "id": "cb4fe516-21d6-4736-a7f5-ed80359cdb82",
   "metadata": {},
   "outputs": [],
   "source": [
    "from api.core.models.estrutura_administrativa import TipoOrgao, Orgao\n",
    "from api.core.models.users import User"
   ]
  },
  {
   "cell_type": "code",
   "execution_count": 2,
   "id": "348db9df-aaf3-4d2a-8d5c-b93e5573f0dc",
   "metadata": {},
   "outputs": [],
   "source": [
    "from api.core.models.database import Base, engine"
   ]
  },
  {
   "cell_type": "code",
   "execution_count": 3,
   "id": "5605812c-2077-4005-a872-68ca57f8c108",
   "metadata": {},
   "outputs": [],
   "source": [
    "Base.metadata.create_all(engine)"
   ]
  },
  {
   "cell_type": "code",
   "execution_count": 4,
   "id": "6fdc52a4-2b48-4fa9-9f6c-0ed72d86635a",
   "metadata": {},
   "outputs": [
    {
     "name": "stderr",
     "output_type": "stream",
     "text": [
      "C:\\Users\\d835916\\AppData\\Local\\Temp\\ipykernel_23336\\2214647737.py:5: SAWarning: relationship 'Ticket.assuntos' will copy column tickets.id to column ticket_assunto.ticket_it, which conflicts with relationship(s): 'AssuntoTicket.tickets' (copies tickets.id to ticket_assunto.ticket_it). If this is not the intention, consider if these relationships should be linked with back_populates, or if viewonly=True should be applied to one or more if they are read-only. For the less common case that foreign key constraints are partially overlapping, the orm.foreign() annotation can be used to isolate the columns that should be written towards.   To silence this warning, add the parameter 'overlaps=\"tickets\"' to the 'Ticket.assuntos' relationship. (Background on this warning at: https://sqlalche.me/e/20/qzyx) (This warning originated from the `configure_mappers()` process, which was invoked automatically in response to a user-initiated operation.)\n",
      "  tipo = TipoOrgao(\n",
      "C:\\Users\\d835916\\AppData\\Local\\Temp\\ipykernel_23336\\2214647737.py:5: SAWarning: relationship 'Ticket.assuntos' will copy column assuntos_ticket.id to column ticket_assunto.assunto_id, which conflicts with relationship(s): 'AssuntoTicket.tickets' (copies assuntos_ticket.id to ticket_assunto.assunto_id). If this is not the intention, consider if these relationships should be linked with back_populates, or if viewonly=True should be applied to one or more if they are read-only. For the less common case that foreign key constraints are partially overlapping, the orm.foreign() annotation can be used to isolate the columns that should be written towards.   To silence this warning, add the parameter 'overlaps=\"tickets\"' to the 'Ticket.assuntos' relationship. (Background on this warning at: https://sqlalche.me/e/20/qzyx) (This warning originated from the `configure_mappers()` process, which was invoked automatically in response to a user-initiated operation.)\n",
      "  tipo = TipoOrgao(\n",
      "C:\\Users\\d835916\\AppData\\Local\\Temp\\ipykernel_23336\\2214647737.py:5: SAWarning: relationship 'Perfil.users' will copy column perfis.id to column user_perfil.perfil_id, which conflicts with relationship(s): 'User.perfis' (copies perfis.id to user_perfil.perfil_id). If this is not the intention, consider if these relationships should be linked with back_populates, or if viewonly=True should be applied to one or more if they are read-only. For the less common case that foreign key constraints are partially overlapping, the orm.foreign() annotation can be used to isolate the columns that should be written towards.   To silence this warning, add the parameter 'overlaps=\"perfis\"' to the 'Perfil.users' relationship. (Background on this warning at: https://sqlalche.me/e/20/qzyx) (This warning originated from the `configure_mappers()` process, which was invoked automatically in response to a user-initiated operation.)\n",
      "  tipo = TipoOrgao(\n",
      "C:\\Users\\d835916\\AppData\\Local\\Temp\\ipykernel_23336\\2214647737.py:5: SAWarning: relationship 'Perfil.users' will copy column users.id to column user_perfil.user_id, which conflicts with relationship(s): 'User.perfis' (copies users.id to user_perfil.user_id). If this is not the intention, consider if these relationships should be linked with back_populates, or if viewonly=True should be applied to one or more if they are read-only. For the less common case that foreign key constraints are partially overlapping, the orm.foreign() annotation can be used to isolate the columns that should be written towards.   To silence this warning, add the parameter 'overlaps=\"perfis\"' to the 'Perfil.users' relationship. (Background on this warning at: https://sqlalche.me/e/20/qzyx) (This warning originated from the `configure_mappers()` process, which was invoked automatically in response to a user-initiated operation.)\n",
      "  tipo = TipoOrgao(\n"
     ]
    }
   ],
   "source": [
    "from sqlalchemy.orm import Session\n",
    "\n",
    "with Session(engine) as session:\n",
    "    try:\n",
    "        tipo = TipoOrgao(\n",
    "            tipo = 'teste2',\n",
    "            desc = 'teste',\n",
    "            is_ativo=True\n",
    "        )\n",
    "        orgao = Orgao(\n",
    "            sigla = 'a',\n",
    "            nome = 'b',\n",
    "            is_ativo = True,\n",
    "            tipo_orgao = tipo\n",
    "        )\n",
    "        session.add_all([orgao])\n",
    "\n",
    "        session.commit()\n",
    "    finally:\n",
    "        session.close()"
   ]
  },
  {
   "cell_type": "code",
   "execution_count": 5,
   "id": "56dfd134-ac97-4b61-9743-0f5d8c26a4f7",
   "metadata": {},
   "outputs": [
    {
     "name": "stdout",
     "output_type": "stream",
     "text": [
      "b\n",
      "teste\n"
     ]
    }
   ],
   "source": [
    "from sqlalchemy import select\n",
    "with Session(engine) as session:\n",
    "    model = Orgao\n",
    "    o = select(Orgao).where(model.sigla=='a')\n",
    "    for orgao in session.scalars(o):\n",
    "        print(orgao.nome)\n",
    "        print(orgao.tipo_orgao.desc)"
   ]
  },
  {
   "cell_type": "code",
   "execution_count": null,
   "id": "f8343f92-d763-4a5a-9c23-dc0b08123242",
   "metadata": {},
   "outputs": [],
   "source": [
    "orgao.nome"
   ]
  },
  {
   "cell_type": "code",
   "execution_count": null,
   "id": "fd75f448-1560-42aa-bbf8-2229a82bff6a",
   "metadata": {},
   "outputs": [],
   "source": [
    "session.close()"
   ]
  },
  {
   "cell_type": "code",
   "execution_count": null,
   "id": "e20e9088-4c9a-459d-9375-e7e54e2b637d",
   "metadata": {},
   "outputs": [],
   "source": []
  }
 ],
 "metadata": {
  "kernelspec": {
   "display_name": "Python 3 (ipykernel)",
   "language": "python",
   "name": "python3"
  },
  "language_info": {
   "codemirror_mode": {
    "name": "ipython",
    "version": 3
   },
   "file_extension": ".py",
   "mimetype": "text/x-python",
   "name": "python",
   "nbconvert_exporter": "python",
   "pygments_lexer": "ipython3",
   "version": "3.11.1"
  }
 },
 "nbformat": 4,
 "nbformat_minor": 5
}
